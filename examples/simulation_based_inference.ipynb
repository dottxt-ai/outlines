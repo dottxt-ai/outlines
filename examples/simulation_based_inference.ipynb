{
 "cells": [
  {
   "cell_type": "markdown",
   "id": "e7c7d0bb-8d45-4139-a584-02c7196db92b",
   "metadata": {},
   "source": [
    "# Find the best few-shot examples using simulation-based inference"
   ]
  },
  {
   "cell_type": "code",
   "execution_count": 1,
   "id": "831a76f5-c569-4174-adab-fb0245877367",
   "metadata": {},
   "outputs": [],
   "source": [
    "import json\n",
    "import random\n",
    "import requests\n",
    "import re\n",
    "\n",
    "import outlines.models as models\n",
    "import outlines.text as text\n",
    "\n",
    "random.seed(0)"
   ]
  },
  {
   "cell_type": "code",
   "execution_count": 18,
   "id": "ec604edc-c8b6-4088-bf17-b77ae57d05a1",
   "metadata": {},
   "outputs": [
    {
     "name": "stdout",
     "output_type": "stream",
     "text": [
      "env: OPENAI_API_KEY=# your key here\n"
     ]
    }
   ],
   "source": [
    "%env OPENAI_API_KEY = # your key here"
   ]
  },
  {
   "cell_type": "markdown",
   "id": "aabb4db6-fd94-4c42-ab7f-97c3de45b2cc",
   "metadata": {},
   "source": [
    "In this example we will use GPT 3.5 to solve problems from the GSM-8K dataset. The state-of-the-art performance on this dataset is obtained using few-shot prompting with 5 examples. However, it is not clear how one should select these examples. Here, we will use **simulation-based inference** to try to infer which examples we should be using to get the best out of the model's abilities to solve the problem.\n",
    "\n",
    "Let's start with downloading the dataset:"
   ]
  },
  {
   "cell_type": "code",
   "execution_count": 3,
   "id": "367f5f89-8e5d-4381-b9eb-78c60bc50f86",
   "metadata": {},
   "outputs": [],
   "source": [
    "result = requests.get(\"https://raw.githubusercontent.com/openai/grade-school-math/master/grade_school_math/data/train.jsonl\")\n",
    "lines = result.iter_lines()"
   ]
  },
  {
   "cell_type": "markdown",
   "id": "ef0f7aa9-d528-41e9-8a9d-4497f01f0692",
   "metadata": {},
   "source": [
    "We now divide the train set in two sets:\n",
    "- 20 problems from which we are going to sample 5 examples at random for every inference;\n",
    "- 500 problems which we are going to use to perform inference."
   ]
  },
  {
   "cell_type": "code",
   "execution_count": 4,
   "id": "0667c4a8-cebe-4796-bbc9-575ee9498717",
   "metadata": {},
   "outputs": [],
   "source": [
    "example_set = []\n",
    "for _ in range(10):\n",
    "    line = json.loads(next(lines))\n",
    "    answer = re.findall(r\"\\d+\", line[\"answer\"])[-1]\n",
    "    example_set.append({\"question\": line[\"question\"], \"answer\": answer})\n",
    "\n",
    "train_set = []\n",
    "for _ in range(500):\n",
    "    line = json.loads(next(lines))\n",
    "    answer = re.findall(r\"\\d+\", line[\"answer\"])[-1]\n",
    "    train_set.append({\"question\": line[\"question\"], \"answer\": answer})"
   ]
  },
  {
   "cell_type": "markdown",
   "id": "4b52b470-d818-495a-a6e3-e50a1deff13c",
   "metadata": {},
   "source": [
    "Now let's define the prompt, the model, and the sampling loop. The sampling loop consists in choosing 5 examples at random, sampling 20 model answers; if the answer is correct we keep the example ids as samples, otherwise continue:"
   ]
  },
  {
   "cell_type": "code",
   "execution_count": 9,
   "id": "9fbebaa9-f05e-4c6b-8875-73a08273bbb5",
   "metadata": {},
   "outputs": [],
   "source": [
    "@text.prompt\n",
    "def few_shots(question, examples):\n",
    "    \"\"\"\n",
    "    {% for example in examples %}\n",
    "    Q: {{ example.question }}\n",
    "    A: {{ example.answer }}\n",
    "    {% endfor %}\n",
    "    Q: {{ question }}\n",
    "    A:\n",
    "    \"\"\"\n",
    "\n",
    "model = models.text_completion.openai(\"text-davinci-003\", max_tokens=128)\n",
    "\n",
    "# TODO: This could largely benefit from vectorization in #52\n",
    "def one_train_example(problem, example_set):\n",
    "    example_ids = random.choices(range(0, len(example_set)), k=5)\n",
    "    examples = [example_set[i] for i in example_ids]\n",
    "    prompt = few_shots(problem[\"question\"], examples)\n",
    "    answers_raw = model(prompt, samples=20)\n",
    "\n",
    "    samples = []\n",
    "    for answer_raw in answers_raw:\n",
    "        try:\n",
    "            answer = re.findall(r\"\\d+\", answer_raw)[-1]\n",
    "            if answer == problem[\"answer\"]:\n",
    "                samples += example_ids\n",
    "            else:\n",
    "                continue\n",
    "        except IndexError:\n",
    "            pass\n",
    "\n",
    "    return samples"
   ]
  },
  {
   "cell_type": "code",
   "execution_count": 10,
   "id": "1dae1ef2-c9e0-4c98-8686-7fbc2ff55e56",
   "metadata": {},
   "outputs": [
    {
     "data": {
      "application/vnd.jupyter.widget-view+json": {
       "model_id": "9efc9d077af24a2eb5ea3c05fe63f298",
       "version_major": 2,
       "version_minor": 0
      },
      "text/plain": [
       "  0%|          | 0/500 [00:00<?, ?it/s]"
      ]
     },
     "metadata": {},
     "output_type": "display_data"
    }
   ],
   "source": [
    "from tqdm.contrib import tenumerate\n",
    "\n",
    "samples = []\n",
    "for i, train_example in tenumerate(train_set):\n",
    "    samples += one_train_example(train_example, example_set)"
   ]
  },
  {
   "cell_type": "markdown",
   "id": "d084a3c1-ec84-48ab-91d7-b4c64afce512",
   "metadata": {},
   "source": [
    "We can now plot the number of times each example was sampled:"
   ]
  },
  {
   "cell_type": "code",
   "execution_count": 11,
   "id": "c211e0af-33c6-4e35-af83-194dcef31f01",
   "metadata": {},
   "outputs": [
    {
     "data": {
      "text/plain": [
       "Text(0, 0.5, 'Counts')"
      ]
     },
     "execution_count": 11,
     "metadata": {},
     "output_type": "execute_result"
    },
    {
     "data": {
      "image/png": "[encoded data removed]",
      "text/plain": [
       "<Figure size 864x576 with 1 Axes>"
      ]
     },
     "metadata": {
      "needs_background": "light"
     },
     "output_type": "display_data"
    }
   ],
   "source": [
    "import numpy as np\n",
    "import matplotlib.pylab as plt\n",
    "\n",
    "example_ids, counts = np.unique(samples, return_counts=True)\n",
    "\n",
    "fig = plt.figure(figsize=(12,8))\n",
    "ax = fig.add_subplot(111)\n",
    "ax.bar(example_ids, counts)\n",
    "\n",
    "ax.spines[[\"top\", \"right\"]].set_visible(False)\n",
    "\n",
    "ax.set_xticks(range(10))\n",
    "ax.set_xlabel(\"Example #\")\n",
    "ax.set_ylabel(\"Counts\")\n"
   ]
  },
  {
   "cell_type": "markdown",
   "id": "cde37e5b-377e-4872-af40-674d680bd2da",
   "metadata": {},
   "source": [
    "Looking at the distribution, our best guess for which examples we should use for benchmarking on the test set would be 0, 1, 2, 6 and 9. This method can be trivially extended to other workflows that use few-shot examples to query LLMs. Of course, simulation-based inference extends beyong choosing the \"best\" prompt, and could for instance be useful to select the structure of chains of LLMs and tools as well."
   ]
  },
  {
   "cell_type": "code",
   "execution_count": 13,
   "id": "bddda20b-234a-4d30-b40a-90708fbaba23",
   "metadata": {},
   "outputs": [
    {
     "data": {
      "text/plain": [
       "{'question': 'Natalia sold clips to 48 of her friends in April, and then she sold half as many clips in May. How many clips did Natalia sell altogether in April and May?',\n",
       " 'answer': '72'}"
      ]
     },
     "execution_count": 13,
     "metadata": {},
     "output_type": "execute_result"
    }
   ],
   "source": [
    "example_set[0]"
   ]
  },
  {
   "cell_type": "code",
   "execution_count": 14,
   "id": "fb186bf9-62b7-485f-a8ce-401f551a9e57",
   "metadata": {},
   "outputs": [
    {
     "data": {
      "text/plain": [
       "{'question': 'Weng earns $12 an hour for babysitting. Yesterday, she just did 50 minutes of babysitting. How much did she earn?',\n",
       " 'answer': '10'}"
      ]
     },
     "execution_count": 14,
     "metadata": {},
     "output_type": "execute_result"
    }
   ],
   "source": [
    "example_set[1]"
   ]
  },
  {
   "cell_type": "code",
   "execution_count": 15,
   "id": "ae427bb2-e3f4-4a96-a508-e8011a0fc553",
   "metadata": {},
   "outputs": [
    {
     "data": {
      "text/plain": [
       "{'question': 'Betty is saving money for a new wallet which costs $100. Betty has only half of the money she needs. Her parents decided to give her $15 for that purpose, and her grandparents twice as much as her parents. How much more money does Betty need to buy the wallet?',\n",
       " 'answer': '5'}"
      ]
     },
     "execution_count": 15,
     "metadata": {},
     "output_type": "execute_result"
    }
   ],
   "source": [
    "example_set[2]"
   ]
  },
  {
   "cell_type": "code",
   "execution_count": 16,
   "id": "fe43ae0f-c18f-4b74-b639-8481472edf4d",
   "metadata": {},
   "outputs": [
    {
     "data": {
      "text/plain": [
       "{'question': 'Albert is wondering how much pizza he can eat in one day. He buys 2 large pizzas and 2 small pizzas. A large pizza has 16 slices and a small pizza has 8 slices. If he eats it all, how many pieces does he eat that day?',\n",
       " 'answer': '48'}"
      ]
     },
     "execution_count": 16,
     "metadata": {},
     "output_type": "execute_result"
    }
   ],
   "source": [
    "example_set[6]"
   ]
  },
  {
   "cell_type": "code",
   "execution_count": 17,
   "id": "19d9d936-d0f0-4927-990c-76dbbfa95b47",
   "metadata": {},
   "outputs": [
    {
     "data": {
      "text/plain": [
       "{'question': 'Tina makes $18.00 an hour.  If she works more than 8 hours per shift, she is eligible for overtime, which is paid by your hourly wage + 1/2 your hourly wage.  If she works 10 hours every day for 5 days, how much money does she make?',\n",
       " 'answer': '990'}"
      ]
     },
     "execution_count": 17,
     "metadata": {},
     "output_type": "execute_result"
    }
   ],
   "source": [
    "example_set[9]"
   ]
  }
 ],
 "metadata": {
  "kernelspec": {
   "display_name": "Python 3 (ipykernel)",
   "language": "python",
   "name": "python3"
  },
  "language_info": {
   "codemirror_mode": {
    "name": "ipython",
    "version": 3
   },
   "file_extension": ".py",
   "mimetype": "text/x-python",
   "name": "python",
   "nbconvert_exporter": "python",
   "pygments_lexer": "ipython3",
   "version": "3.9.16"
  }
 },
 "nbformat": 4,
 "nbformat_minor": 5
}
