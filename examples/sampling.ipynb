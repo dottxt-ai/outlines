{
 "cells": [
  {
   "cell_type": "code",
   "execution_count": 1,
   "id": "62129e1a-e9de-454e-a714-35ccbcf0b518",
   "metadata": {},
   "outputs": [],
   "source": [
    "import functools as ft\n",
    "import re\n",
    "\n",
    "import numpy as np\n",
    "import matplotlib.pylab as plt\n",
    "\n",
    "import outlines.models as models\n",
    "import outlines.text as text"
   ]
  },
  {
   "cell_type": "code",
   "execution_count": 13,
   "id": "b20aafe8-b7a3-4df4-878f-b48b74e131df",
   "metadata": {},
   "outputs": [
    {
     "name": "stdout",
     "output_type": "stream",
     "text": [
      "env: OPENAI_API_KEY=# you key here\n"
     ]
    }
   ],
   "source": [
    "%env OPENAI_API_KEY= # you key here"
   ]
  },
  {
   "cell_type": "markdown",
   "id": "2a3514d6-d5d7-46e9-9b69-1251d337e094",
   "metadata": {},
   "source": [
    "In this example we will look at completion results for questions from the GSM8K dataset, using few-shots prompts with 5 examples. We first use `outlines.text.prompt` to build the few-shot prompt. `outlines.text.prompt` is a decorator around \"prompt functions\" which contain the prompt template in its docstring. Outlines uses the Jinja2 templating engine to render the prompt when the function is called with the variables' values; it thus allows you to build complex prompts very easily."
   ]
  },
  {
   "cell_type": "code",
   "execution_count": 3,
   "id": "ffe8bb11-6b51-4fe7-bfb3-c62556a60db8",
   "metadata": {},
   "outputs": [],
   "source": [
    "examples = [\n",
    "    {\n",
    "        \"question\": \"There are 15 trees in the grove. Grove workers will plant trees in the grove today. After they are done, there will be 21 trees. How many trees did the grove workers plant today?\",\n",
    "        \"answer\": \"We start with 15 trees. Later we have 21 trees. The difference must be the number of trees they planted. So, they must have planted 21 - 15 = 6 trees. The answer is 6.\",\n",
    "    },\n",
    "    {\n",
    "        \"question\": \"If there are 3 cars in the parking lot and 2 more cars arrive, how many cars are in the parking lot?\",\n",
    "        \"answer\": \"There are 3 cars in the parking lot already. 2 more arrive. Now there are 3 + 2 = 5 cars. The answer is 5.\",\n",
    "    },\n",
    "    {\n",
    "        \"question\": \"Leah had 32 chocolates and her sister had 42. If they ate 35, how many pieces do they have left in total?\",\n",
    "        \"answer\": \"Leah had 32 chocolates and Leah’s sister had 42. That means there were originally 32 + 42 = 74 chocolates. 35 have been eaten. So in total they still have 74 - 35 = 39 chocolates. The answer is 39.\",\n",
    "    },\n",
    "    {\n",
    "        \"question\": \"Jason had 20 lollipops. He gave Denny some lollipops. Now Jason has 12 lollipops. How many lollipops did Jason give to Denny?\",\n",
    "        \"answer\": \"Jason had 20 lollipops. Since he only has 12 now, he must have given the rest to Denny. The number of lollipops he has given to Denny must have been 20 - 12 = 8 lollipops. The answer is 8.\",\n",
    "    },\n",
    "    {\n",
    "        \"question\": \"Shawn has five toys. For Christmas, he got two toys each from his mom and dad. How many toys does he have now?\",\n",
    "        \"answer\": \"He has 5 toys. He got 2 from mom, so after that he has 5 + 2 = 7 toys. Then he got 2 more from dad, so in total he has 7 + 2 = 9 toys. The answer is 9.\",\n",
    "    },\n",
    "    {\n",
    "        \"question\": \"There were nine computers in the server room. Five more computers were installed each day, from monday to thursday. How many computers are now in the server room?\",\n",
    "        \"answer\": \"There are 4 days from monday to thursday. 5 computers were added each day. That means in total 4 * 5 = 20 computers were added. There were 9 computers in the beginning, so now there are 9 + 20 = 29 computers. The answer is 29.\",\n",
    "    },\n",
    "    {\n",
    "        \"question\": \"Michael had 58 golf balls. On tuesday, he lost 23 golf balls. On wednesday, he lost 2 more. How many golf balls did he have at the end of wednesday?\",\n",
    "        \"answer\": \"Michael initially had 58 balls. He lost 23 on Tuesday, so after that he has 58 - 23 = 35 balls. On Wednesday he lost 2 more so now he has 35 - 2 = 33 balls. The answer is 33.\",\n",
    "    },\n",
    "    {\n",
    "        \"question\": \"Olivia has $23. She bought five bagels for $3 each. How much money does she have left?\",\n",
    "        \"answer\": \"She bought 5 bagels for $3 each. This means she spent 5\",\n",
    "    },\n",
    "]\n",
    "\n",
    "@text.prompt\n",
    "def few_shot_prompt(question, examples):\n",
    "    \"\"\"\n",
    "    {% for example in examples %}\n",
    "    Q: {{ example.question }}\n",
    "    A: {{ example.answer }}\n",
    "    {% endfor %}\n",
    "    Q: {{ question }}\n",
    "    A:\n",
    "    \"\"\"\n",
    "\n",
    "# Prompt functions can be partially evaluated like any other function\n",
    "gsm8k_prompt = ft.partial(few_shot_prompt, examples=examples)"
   ]
  },
  {
   "cell_type": "markdown",
   "id": "1eae0ec8-89f0-43fc-b055-6fcd64cbc03b",
   "metadata": {},
   "source": [
    "## When `text-davinci-003` is uncertain"
   ]
  },
  {
   "cell_type": "markdown",
   "id": "a273ed78-e813-467e-85f3-16d7f283ba87",
   "metadata": {},
   "source": [
    "Let us now sample 20 completions with the `text-davinci-003` model. Outlines is sampling first, and allows to draw several samples with both OpenAI and `transformers` models easily:"
   ]
  },
  {
   "cell_type": "code",
   "execution_count": 4,
   "id": "beff960d-6833-4f24-af09-5b65886a9549",
   "metadata": {},
   "outputs": [],
   "source": [
    "model = models.text_completion.openai(\"text-davinci-003\", max_tokens=128)\n",
    "\n",
    "question = \"When I was 6 my sister was half my age. Now I’m 70 how old is my sister?\"\n",
    "prompt = gsm8k_prompt(question)\n",
    "answers = model(prompt, samples=20)"
   ]
  },
  {
   "cell_type": "markdown",
   "id": "1a895b6d-d4d4-40f9-9156-24ba7e21cc08",
   "metadata": {},
   "source": [
    "The correct answer to this question is 35. Let us now count the different answers, and take a look at their distribution. Let us first define a few utility functions:"
   ]
  },
  {
   "cell_type": "code",
   "execution_count": 5,
   "id": "f1c83d1f-a478-4509-890e-b84a2e0d8846",
   "metadata": {},
   "outputs": [],
   "source": [
    "def count_digits(answers):\n",
    "    digits = []\n",
    "    for answer in answers:\n",
    "        try:\n",
    "            match = re.findall(r\"\\d+\", answer)[-1]\n",
    "            if match is not None:\n",
    "                digit = int(match)\n",
    "                digits.append(digit)\n",
    "        except AttributeError:\n",
    "            print(f\"Could not parse the completion: '{answer}'\")\n",
    "    \n",
    "    unique_digits, counts = np.unique(digits, return_counts=True)\n",
    "    return {d: c for d, c in zip(unique_digits, counts)}\n",
    "\n",
    "def plot_counts(counts):\n",
    "    fig = plt.figure(figsize=(12,8))\n",
    "    ax = fig.add_subplot(111)\n",
    "    \n",
    "    bar = ax.bar(counts.keys(), counts.values())\n",
    "    ax.spines[[\"right\", \"top\", \"left\"]].set_visible(False)\n",
    "    ax.get_yaxis().set_visible(False)\n",
    "    ax.get_yaxis().set_visible(False)\n",
    "    \n",
    "    for rect in bar:\n",
    "        height = rect.get_height()\n",
    "        plt.text(rect.get_x() + rect.get_width() / 2.0, height, f'{height:.0f}', ha='center', va='bottom', fontsize=20)\n",
    "    \n",
    "    ax.set_xticks(list(counts.keys()))\n",
    "    ax.set_xlabel(\"Answer\")\n",
    "\n",
    "def entropy(counts):\n",
    "    counts = np.array(list(counts.values()))\n",
    "    probs = counts / np.sum(counts)\n",
    "    log_probs = np.log(probs)\n",
    "    return - np.sum(probs * log_probs)"
   ]
  },
  {
   "cell_type": "code",
   "execution_count": 6,
   "id": "88668e09-bcd6-4a6a-83a5-838189b910eb",
   "metadata": {},
   "outputs": [
    {
     "data": {
      "image/png": "[encoded data removed]",
      "text/plain": [
       "<Figure size 864x576 with 1 Axes>"
      ]
     },
     "metadata": {
      "needs_background": "light"
     },
     "output_type": "display_data"
    }
   ],
   "source": [
    "counts = count_digits(answers)\n",
    "plot_counts(counts)"
   ]
  },
  {
   "cell_type": "markdown",
   "id": "661a1135-ac2d-4a49-a786-d04a7ba68b48",
   "metadata": {},
   "source": [
    "We see that there is an important variabilty in the answers given by `text-davinci-003`. Depending on the number of samples taken, even self-consistency sampling may lead to the wrong result here."
   ]
  },
  {
   "cell_type": "code",
   "execution_count": 7,
   "id": "30ea0dfe-6c15-44f0-881c-88b325542b44",
   "metadata": {},
   "outputs": [
    {
     "name": "stdout",
     "output_type": "stream",
     "text": [
      "Entropy: 1.5741030017371853\n"
     ]
    }
   ],
   "source": [
    "print(f\"Entropy: {entropy(counts)}\")"
   ]
  },
  {
   "cell_type": "markdown",
   "id": "0b15b230-b667-4c9c-8a5d-366dd61de9b7",
   "metadata": {},
   "source": [
    "## `text-davinci-003` on an easier question"
   ]
  },
  {
   "cell_type": "markdown",
   "id": "beae30f0-4168-4a80-90d4-d26a4f476469",
   "metadata": {},
   "source": [
    "Let us now look at the results for an arguably easier question:"
   ]
  },
  {
   "cell_type": "code",
   "execution_count": 8,
   "id": "7e106b94-2dfd-4a75-b4d9-b1ad693418a7",
   "metadata": {},
   "outputs": [],
   "source": [
    "question = \"John buys 2 pairs of shoes for each of his 3 children. They cost $60 each. How much did he pay?\"\n",
    "prompt = gsm8k_prompt(question)\n",
    "answers = model(question, samples=20)"
   ]
  },
  {
   "cell_type": "code",
   "execution_count": 9,
   "id": "dd46fb2b-08ef-4003-8d03-ea0f39c865c4",
   "metadata": {},
   "outputs": [
    {
     "name": "stdout",
     "output_type": "stream",
     "text": [
      "Entropy: 0.1985152433458726\n"
     ]
    },
    {
     "data": {
      "image/png": "[encoded data removed]",
      "text/plain": [
       "<Figure size 864x576 with 1 Axes>"
      ]
     },
     "metadata": {
      "needs_background": "light"
     },
     "output_type": "display_data"
    }
   ],
   "source": [
    "counts = count_digits(answers)\n",
    "plot_counts(counts)\n",
    "print(f\"Entropy: {entropy(counts)}\")"
   ]
  },
  {
   "cell_type": "markdown",
   "id": "cf4cacdf-a31d-43bd-8517-eec9f656eee4",
   "metadata": {},
   "source": [
    "The entropy of the results is much lower, we say that the model is more \"certain\" of its answers. "
   ]
  },
  {
   "cell_type": "markdown",
   "id": "22f31872-aab7-4a68-b9f2-d335a4f1a875",
   "metadata": {},
   "source": [
    "## How `gpt-4` compares to `text-davinci-003`\n",
    "\n",
    "Let us now look at how GPT4 fares on the original question:"
   ]
  },
  {
   "cell_type": "code",
   "execution_count": 11,
   "id": "2d5ab5b8-eca5-47f5-a35c-5f3865e35755",
   "metadata": {},
   "outputs": [],
   "source": [
    "model = models.text_completion.openai(\"gpt-4\", max_tokens=128)\n",
    "\n",
    "question = \"When I was 6 my sister was half my age. Now I’m 70 how old is my sister?\"\n",
    "prompt = gsm8k_prompt(question)\n",
    "answers = model(prompt, samples=20)"
   ]
  },
  {
   "cell_type": "code",
   "execution_count": 12,
   "id": "d316a5f7-cebc-4b09-9b1b-aee219b2f088",
   "metadata": {},
   "outputs": [
    {
     "name": "stdout",
     "output_type": "stream",
     "text": [
      "Entropy: -0.0\n"
     ]
    },
    {
     "data": {
      "image/png": "[encoded data removed]",
      "text/plain": [
       "<Figure size 864x576 with 1 Axes>"
      ]
     },
     "metadata": {
      "needs_background": "light"
     },
     "output_type": "display_data"
    }
   ],
   "source": [
    "counts = count_digits(answers)\n",
    "plot_counts(counts)\n",
    "print(f\"Entropy: {entropy(counts)}\")"
   ]
  },
  {
   "cell_type": "markdown",
   "id": "2f6c8a22-fdf5-4f30-865c-8e11927b1b7c",
   "metadata": {},
   "source": [
    "GPT4 returns the correct answer with certainty."
   ]
  },
  {
   "cell_type": "markdown",
   "id": "50d4a55e-86df-46ab-8b38-302c79bc8add",
   "metadata": {},
   "source": [
    "## Conclusion\n",
    "\n",
    "When generating text completions with a language model we typically look at one output sample, trying to find the \"right\" answer. However, doing so we obscure the diversity of answers that these language models can produce. Assuming the diversity of answers reflects these models' \"uncertainty\", we can use measures such as the entropy of the answers' distribution to evaluate the quality of the answer.\n",
    "\n",
    "Which result should we be choosing once we have different samples? There is no definite answer to this question. The [self-consistency method](https://arxiv.org/abs/2203.11171) consists in choosing the result based on a majority vote. We think this choice is arbitrary and that choosing the correct answer is a [decision theory](https://en.wikipedia.org/wiki/Decision_theory) problem, which can only be solved by specifying a loss function that is adapted to the experiment's context; the majority vote being a particular case with a 0-1 loss."
   ]
  }
 ],
 "metadata": {
  "kernelspec": {
   "display_name": "Python 3 (ipykernel)",
   "language": "python",
   "name": "python3"
  },
  "language_info": {
   "codemirror_mode": {
    "name": "ipython",
    "version": 3
   },
   "file_extension": ".py",
   "mimetype": "text/x-python",
   "name": "python",
   "nbconvert_exporter": "python",
   "pygments_lexer": "ipython3",
   "version": "3.9.16"
  }
 },
 "nbformat": 4,
 "nbformat_minor": 5
}
